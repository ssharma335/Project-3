{
 "cells": [
  {
   "cell_type": "code",
   "execution_count": 1,
   "metadata": {},
   "outputs": [],
   "source": [
    "import pandas as pd\n",
    "import numpy as np"
   ]
  },
  {
   "cell_type": "code",
   "execution_count": 2,
   "metadata": {},
   "outputs": [],
   "source": [
    "android_app=pd.read_csv(\"googleplaystore.csv\")\n"
   ]
  },
  {
   "cell_type": "code",
   "execution_count": null,
   "metadata": {},
   "outputs": [],
   "source": []
  },
  {
   "cell_type": "markdown",
   "metadata": {},
   "source": [
    "# Transform the Android Table"
   ]
  },
  {
   "cell_type": "code",
   "execution_count": 3,
   "metadata": {
    "scrolled": true
   },
   "outputs": [],
   "source": [
    "android=android_app[['App','Reviews','Rating','Genres','Installs']]\n"
   ]
  },
  {
   "cell_type": "code",
   "execution_count": 4,
   "metadata": {},
   "outputs": [],
   "source": [
    "android=android.dropna()"
   ]
  },
  {
   "cell_type": "code",
   "execution_count": 5,
   "metadata": {},
   "outputs": [],
   "source": [
    "#Sort by the name, and observed that there are duplicated apps being rated multiple times i.e same names appears multiple times with the same or different reviews and ratings\n",
    "android=android.sort_values(\"App\")\n",
    "#Trim the spaces of all the columns, covert all columns to a string datatype at this point\n",
    "android['App']=android['App'].str.strip()\n",
    "android['Reviews']=android['Reviews'].str.strip()\n",
    "android['Rating']=android['Rating'].astype(str).str.strip()\n",
    "android['Genres']=android['Genres'].str.strip()\n",
    "android['Installs']=android['Installs'].str.strip()\n",
    "#Change the app name case to a lower case prepare for the further duplicates removal\n",
    "android['App']=android['App'].str.lower()"
   ]
  },
  {
   "cell_type": "code",
   "execution_count": 6,
   "metadata": {},
   "outputs": [],
   "source": [
    "#The methodology is if there are duplicated names, we want to take the best reviews and ratings as the result of this app \n",
    "#so we created two extra columns and groupby app names to store the max review and ratings\n",
    "android[['Reviews_max', 'Ratings_max']]=android.groupby('App')['Reviews', 'Rating'].transform('max')\n"
   ]
  },
  {
   "cell_type": "code",
   "execution_count": 7,
   "metadata": {},
   "outputs": [],
   "source": [
    "#and then we use the max review and ratings as the new review columns and rating columns and prepare for the duplicate removal\n",
    "new_android=android[['App','Reviews_max','Ratings_max','Genres','Installs']]\n"
   ]
  },
  {
   "cell_type": "code",
   "execution_count": 8,
   "metadata": {},
   "outputs": [
    {
     "data": {
      "text/html": [
       "<div>\n",
       "<style scoped>\n",
       "    .dataframe tbody tr th:only-of-type {\n",
       "        vertical-align: middle;\n",
       "    }\n",
       "\n",
       "    .dataframe tbody tr th {\n",
       "        vertical-align: top;\n",
       "    }\n",
       "\n",
       "    .dataframe thead th {\n",
       "        text-align: right;\n",
       "    }\n",
       "</style>\n",
       "<table border=\"1\" class=\"dataframe\">\n",
       "  <thead>\n",
       "    <tr style=\"text-align: right;\">\n",
       "      <th></th>\n",
       "      <th>App</th>\n",
       "      <th>Reviews_max</th>\n",
       "      <th>Ratings_max</th>\n",
       "      <th>Genres</th>\n",
       "      <th>Installs</th>\n",
       "    </tr>\n",
       "  </thead>\n",
       "  <tbody>\n",
       "    <tr>\n",
       "      <th>0</th>\n",
       "      <td>+download 4 instagram twitter</td>\n",
       "      <td>40467</td>\n",
       "      <td>4.5</td>\n",
       "      <td>Social</td>\n",
       "      <td>1,000,000+</td>\n",
       "    </tr>\n",
       "    <tr>\n",
       "      <th>1</th>\n",
       "      <td>- free comics - comic apps</td>\n",
       "      <td>115</td>\n",
       "      <td>3.5</td>\n",
       "      <td>Comics</td>\n",
       "      <td>10,000+</td>\n",
       "    </tr>\n",
       "    <tr>\n",
       "      <th>2</th>\n",
       "      <td>.r</td>\n",
       "      <td>259</td>\n",
       "      <td>4.5</td>\n",
       "      <td>Tools</td>\n",
       "      <td>10,000+</td>\n",
       "    </tr>\n",
       "    <tr>\n",
       "      <th>3</th>\n",
       "      <td>/u/app</td>\n",
       "      <td>573</td>\n",
       "      <td>4.7</td>\n",
       "      <td>Communication</td>\n",
       "      <td>10,000+</td>\n",
       "    </tr>\n",
       "    <tr>\n",
       "      <th>4</th>\n",
       "      <td>058.ba</td>\n",
       "      <td>27</td>\n",
       "      <td>4.4</td>\n",
       "      <td>News &amp; Magazines</td>\n",
       "      <td>100+</td>\n",
       "    </tr>\n",
       "  </tbody>\n",
       "</table>\n",
       "</div>"
      ],
      "text/plain": [
       "                             App Reviews_max Ratings_max            Genres  \\\n",
       "0  +download 4 instagram twitter       40467         4.5            Social   \n",
       "1     - free comics - comic apps         115         3.5            Comics   \n",
       "2                             .r         259         4.5             Tools   \n",
       "3                         /u/app         573         4.7     Communication   \n",
       "4                         058.ba          27         4.4  News & Magazines   \n",
       "\n",
       "     Installs  \n",
       "0  1,000,000+  \n",
       "1     10,000+  \n",
       "2     10,000+  \n",
       "3     10,000+  \n",
       "4        100+  "
      ]
     },
     "execution_count": 8,
     "metadata": {},
     "output_type": "execute_result"
    }
   ],
   "source": [
    "android_table=new_android.drop_duplicates().reset_index(drop=True)\n",
    "android_table.head(5)"
   ]
  },
  {
   "cell_type": "code",
   "execution_count": 9,
   "metadata": {},
   "outputs": [],
   "source": [
    "android_table=android_table.rename(columns={\"App\":\"App Name\",\"Reviews_max\":\"Total_Reviews\",\"Ratings_max\":\"Ratings\"})"
   ]
  },
  {
   "cell_type": "code",
   "execution_count": 10,
   "metadata": {},
   "outputs": [
    {
     "data": {
      "text/html": [
       "<div>\n",
       "<style scoped>\n",
       "    .dataframe tbody tr th:only-of-type {\n",
       "        vertical-align: middle;\n",
       "    }\n",
       "\n",
       "    .dataframe tbody tr th {\n",
       "        vertical-align: top;\n",
       "    }\n",
       "\n",
       "    .dataframe thead th {\n",
       "        text-align: right;\n",
       "    }\n",
       "</style>\n",
       "<table border=\"1\" class=\"dataframe\">\n",
       "  <thead>\n",
       "    <tr style=\"text-align: right;\">\n",
       "      <th></th>\n",
       "      <th>App Name</th>\n",
       "      <th>Total_Reviews</th>\n",
       "      <th>Ratings</th>\n",
       "      <th>Genres</th>\n",
       "      <th>Installs</th>\n",
       "    </tr>\n",
       "  </thead>\n",
       "  <tbody>\n",
       "    <tr>\n",
       "      <th>0</th>\n",
       "      <td>+download 4 instagram twitter</td>\n",
       "      <td>40467</td>\n",
       "      <td>4.5</td>\n",
       "      <td>Social</td>\n",
       "      <td>1,000,000+</td>\n",
       "    </tr>\n",
       "    <tr>\n",
       "      <th>1</th>\n",
       "      <td>- free comics - comic apps</td>\n",
       "      <td>115</td>\n",
       "      <td>3.5</td>\n",
       "      <td>Comics</td>\n",
       "      <td>10,000+</td>\n",
       "    </tr>\n",
       "    <tr>\n",
       "      <th>2</th>\n",
       "      <td>.r</td>\n",
       "      <td>259</td>\n",
       "      <td>4.5</td>\n",
       "      <td>Tools</td>\n",
       "      <td>10,000+</td>\n",
       "    </tr>\n",
       "    <tr>\n",
       "      <th>3</th>\n",
       "      <td>/u/app</td>\n",
       "      <td>573</td>\n",
       "      <td>4.7</td>\n",
       "      <td>Communication</td>\n",
       "      <td>10,000+</td>\n",
       "    </tr>\n",
       "    <tr>\n",
       "      <th>4</th>\n",
       "      <td>058.ba</td>\n",
       "      <td>27</td>\n",
       "      <td>4.4</td>\n",
       "      <td>News &amp; Magazines</td>\n",
       "      <td>100+</td>\n",
       "    </tr>\n",
       "  </tbody>\n",
       "</table>\n",
       "</div>"
      ],
      "text/plain": [
       "                        App Name Total_Reviews Ratings            Genres  \\\n",
       "0  +download 4 instagram twitter         40467     4.5            Social   \n",
       "1     - free comics - comic apps           115     3.5            Comics   \n",
       "2                             .r           259     4.5             Tools   \n",
       "3                         /u/app           573     4.7     Communication   \n",
       "4                         058.ba            27     4.4  News & Magazines   \n",
       "\n",
       "     Installs  \n",
       "0  1,000,000+  \n",
       "1     10,000+  \n",
       "2     10,000+  \n",
       "3     10,000+  \n",
       "4        100+  "
      ]
     },
     "execution_count": 10,
     "metadata": {},
     "output_type": "execute_result"
    }
   ],
   "source": [
    "android_table.head(5)"
   ]
  },
  {
   "cell_type": "code",
   "execution_count": 11,
   "metadata": {},
   "outputs": [],
   "source": [
    "#To fix that, we need to change 3.0M to 3,000,000\n",
    "android_table.loc[android_table.Total_Reviews=='3.0M','Total_Reviews']=3000000"
   ]
  },
  {
   "cell_type": "code",
   "execution_count": 12,
   "metadata": {},
   "outputs": [],
   "source": [
    "#now we are happy\n",
    "android_table['Total_Reviews']=pd.to_numeric(android_table['Total_Reviews'])"
   ]
  },
  {
   "cell_type": "code",
   "execution_count": 13,
   "metadata": {},
   "outputs": [
    {
     "name": "stdout",
     "output_type": "stream",
     "text": [
      "2.71 ms ± 27 µs per loop (mean ± std. dev. of 7 runs, 100 loops each)\n"
     ]
    }
   ],
   "source": [
    "%timeit (android_table[\"Installs\"]).str.replace('+','')"
   ]
  },
  {
   "cell_type": "code",
   "execution_count": 14,
   "metadata": {},
   "outputs": [
    {
     "data": {
      "text/html": [
       "<div>\n",
       "<style scoped>\n",
       "    .dataframe tbody tr th:only-of-type {\n",
       "        vertical-align: middle;\n",
       "    }\n",
       "\n",
       "    .dataframe tbody tr th {\n",
       "        vertical-align: top;\n",
       "    }\n",
       "\n",
       "    .dataframe thead th {\n",
       "        text-align: right;\n",
       "    }\n",
       "</style>\n",
       "<table border=\"1\" class=\"dataframe\">\n",
       "  <thead>\n",
       "    <tr style=\"text-align: right;\">\n",
       "      <th></th>\n",
       "      <th>App Name</th>\n",
       "      <th>Total_Reviews</th>\n",
       "      <th>Ratings</th>\n",
       "      <th>Genres</th>\n",
       "      <th>Installs</th>\n",
       "    </tr>\n",
       "  </thead>\n",
       "  <tbody>\n",
       "    <tr>\n",
       "      <th>0</th>\n",
       "      <td>+download 4 instagram twitter</td>\n",
       "      <td>40467</td>\n",
       "      <td>4.5</td>\n",
       "      <td>Social</td>\n",
       "      <td>1,000,000+</td>\n",
       "    </tr>\n",
       "    <tr>\n",
       "      <th>1</th>\n",
       "      <td>- free comics - comic apps</td>\n",
       "      <td>115</td>\n",
       "      <td>3.5</td>\n",
       "      <td>Comics</td>\n",
       "      <td>10,000+</td>\n",
       "    </tr>\n",
       "    <tr>\n",
       "      <th>2</th>\n",
       "      <td>.r</td>\n",
       "      <td>259</td>\n",
       "      <td>4.5</td>\n",
       "      <td>Tools</td>\n",
       "      <td>10,000+</td>\n",
       "    </tr>\n",
       "    <tr>\n",
       "      <th>3</th>\n",
       "      <td>/u/app</td>\n",
       "      <td>573</td>\n",
       "      <td>4.7</td>\n",
       "      <td>Communication</td>\n",
       "      <td>10,000+</td>\n",
       "    </tr>\n",
       "    <tr>\n",
       "      <th>4</th>\n",
       "      <td>058.ba</td>\n",
       "      <td>27</td>\n",
       "      <td>4.4</td>\n",
       "      <td>News &amp; Magazines</td>\n",
       "      <td>100+</td>\n",
       "    </tr>\n",
       "  </tbody>\n",
       "</table>\n",
       "</div>"
      ],
      "text/plain": [
       "                        App Name  Total_Reviews Ratings            Genres  \\\n",
       "0  +download 4 instagram twitter          40467     4.5            Social   \n",
       "1     - free comics - comic apps            115     3.5            Comics   \n",
       "2                             .r            259     4.5             Tools   \n",
       "3                         /u/app            573     4.7     Communication   \n",
       "4                         058.ba             27     4.4  News & Magazines   \n",
       "\n",
       "     Installs  \n",
       "0  1,000,000+  \n",
       "1     10,000+  \n",
       "2     10,000+  \n",
       "3     10,000+  \n",
       "4        100+  "
      ]
     },
     "execution_count": 14,
     "metadata": {},
     "output_type": "execute_result"
    }
   ],
   "source": [
    "android_table.head()"
   ]
  },
  {
   "cell_type": "code",
   "execution_count": 15,
   "metadata": {},
   "outputs": [],
   "source": [
    "# cleaning the table\n",
    "final= android_table.sort_values([\"Total_Reviews\",\"Ratings\"], ascending=False).reset_index(drop=True)"
   ]
  },
  {
   "cell_type": "code",
   "execution_count": 16,
   "metadata": {},
   "outputs": [
    {
     "data": {
      "text/html": [
       "<div>\n",
       "<style scoped>\n",
       "    .dataframe tbody tr th:only-of-type {\n",
       "        vertical-align: middle;\n",
       "    }\n",
       "\n",
       "    .dataframe tbody tr th {\n",
       "        vertical-align: top;\n",
       "    }\n",
       "\n",
       "    .dataframe thead th {\n",
       "        text-align: right;\n",
       "    }\n",
       "</style>\n",
       "<table border=\"1\" class=\"dataframe\">\n",
       "  <thead>\n",
       "    <tr style=\"text-align: right;\">\n",
       "      <th></th>\n",
       "      <th>App Name</th>\n",
       "      <th>Total_Reviews</th>\n",
       "      <th>Ratings</th>\n",
       "      <th>Genres</th>\n",
       "      <th>Installs</th>\n",
       "    </tr>\n",
       "  </thead>\n",
       "  <tbody>\n",
       "    <tr>\n",
       "      <th>0</th>\n",
       "      <td>facebook</td>\n",
       "      <td>78158306</td>\n",
       "      <td>4.1</td>\n",
       "      <td>Social</td>\n",
       "      <td>1,000,000,000+</td>\n",
       "    </tr>\n",
       "    <tr>\n",
       "      <th>1</th>\n",
       "      <td>whatsapp messenger</td>\n",
       "      <td>69119316</td>\n",
       "      <td>4.4</td>\n",
       "      <td>Communication</td>\n",
       "      <td>1,000,000,000+</td>\n",
       "    </tr>\n",
       "    <tr>\n",
       "      <th>2</th>\n",
       "      <td>instagram</td>\n",
       "      <td>66577446</td>\n",
       "      <td>4.5</td>\n",
       "      <td>Social</td>\n",
       "      <td>1,000,000,000+</td>\n",
       "    </tr>\n",
       "    <tr>\n",
       "      <th>3</th>\n",
       "      <td>messenger – text and video chat for free</td>\n",
       "      <td>56646578</td>\n",
       "      <td>4.0</td>\n",
       "      <td>Communication</td>\n",
       "      <td>1,000,000,000+</td>\n",
       "    </tr>\n",
       "    <tr>\n",
       "      <th>4</th>\n",
       "      <td>clash of clans</td>\n",
       "      <td>44893888</td>\n",
       "      <td>4.6</td>\n",
       "      <td>Strategy</td>\n",
       "      <td>100,000,000+</td>\n",
       "    </tr>\n",
       "  </tbody>\n",
       "</table>\n",
       "</div>"
      ],
      "text/plain": [
       "                                   App Name  Total_Reviews Ratings  \\\n",
       "0                                  facebook       78158306     4.1   \n",
       "1                        whatsapp messenger       69119316     4.4   \n",
       "2                                 instagram       66577446     4.5   \n",
       "3  messenger – text and video chat for free       56646578     4.0   \n",
       "4                            clash of clans       44893888     4.6   \n",
       "\n",
       "          Genres        Installs  \n",
       "0         Social  1,000,000,000+  \n",
       "1  Communication  1,000,000,000+  \n",
       "2         Social  1,000,000,000+  \n",
       "3  Communication  1,000,000,000+  \n",
       "4       Strategy    100,000,000+  "
      ]
     },
     "execution_count": 16,
     "metadata": {},
     "output_type": "execute_result"
    }
   ],
   "source": [
    "final.head()"
   ]
  },
  {
   "cell_type": "code",
   "execution_count": 17,
   "metadata": {},
   "outputs": [],
   "source": [
    "x= final['App Name'].head(10).values\n",
    "y=final['Total_Reviews'].head(10).values/1000000\n",
    "y= y.astype(int)\n"
   ]
  },
  {
   "cell_type": "code",
   "execution_count": null,
   "metadata": {},
   "outputs": [],
   "source": []
  },
  {
   "cell_type": "code",
   "execution_count": null,
   "metadata": {
    "scrolled": true
   },
   "outputs": [],
   "source": []
  },
  {
   "cell_type": "code",
   "execution_count": 18,
   "metadata": {
    "scrolled": true
   },
   "outputs": [],
   "source": [
    "final['App Name']=final['App Name'].str.title()\n",
    "final.head(10)\n",
    "#x=final[['App Name']].head(10)\n",
    "#y=final[['Total_Reviews']].head(10)\n",
    "#x=x.values\n",
    "#y=y.values.tolist()\n",
    "\n",
    "a=','.join(x)\n",
    "b=','.join(y.astype(str))"
   ]
  },
  {
   "cell_type": "code",
   "execution_count": 19,
   "metadata": {},
   "outputs": [],
   "source": [
    "#export_csv=final.to_csv(\"datagoogle.csv\")\n",
    "from flask import Flask, flash, redirect, render_template, request, session, jsonify, Markup, abort\n",
    "\n",
    "app = Flask(__name__)\n"
   ]
  },
  {
   "cell_type": "code",
   "execution_count": 20,
   "metadata": {},
   "outputs": [],
   "source": [
    "#taking mean of ratings.\n",
    "#Ratings_df = app_overall[['Ratings_x', 'Ratings_y']].mean(axis=1)"
   ]
  },
  {
   "cell_type": "code",
   "execution_count": null,
   "metadata": {},
   "outputs": [
    {
     "name": "stdout",
     "output_type": "stream",
     "text": [
      " * Serving Flask app \"__main__\" (lazy loading)\n",
      " * Environment: production\n",
      "   WARNING: Do not use the development server in a production environment.\n",
      "   Use a production WSGI server instead.\n",
      " * Debug mode: off\n"
     ]
    },
    {
     "name": "stderr",
     "output_type": "stream",
     "text": [
      " * Running on http://127.0.0.1:5000/ (Press CTRL+C to quit)\n",
      "127.0.0.1 - - [09/Jun/2019 14:20:12] \"GET / HTTP/1.1\" 200 -\n",
      "127.0.0.1 - - [09/Jun/2019 14:20:12] \"GET /static/css/style.css HTTP/1.1\" 304 -\n",
      "127.0.0.1 - - [09/Jun/2019 14:20:12] \"GET /static/js/data.js HTTP/1.1\" 304 -\n",
      "127.0.0.1 - - [09/Jun/2019 14:20:12] \"GET /static/js/app.js HTTP/1.1\" 304 -\n",
      "127.0.0.1 - - [09/Jun/2019 14:20:12] \"GET /static/js/plot.js HTTP/1.1\" 404 -\n",
      "127.0.0.1 - - [09/Jun/2019 14:20:12] \"GET /static/images/playstore.png HTTP/1.1\" 304 -\n",
      "127.0.0.1 - - [09/Jun/2019 14:20:12] \"GET /static/js/plot.js HTTP/1.1\" 404 -\n",
      "127.0.0.1 - - [09/Jun/2019 14:20:41] \"GET / HTTP/1.1\" 200 -\n",
      "127.0.0.1 - - [09/Jun/2019 14:20:41] \"GET /static/js/plot.js HTTP/1.1\" 404 -\n",
      "127.0.0.1 - - [09/Jun/2019 14:20:42] \"GET /static/js/plot.js HTTP/1.1\" 404 -\n",
      "127.0.0.1 - - [09/Jun/2019 14:57:44] \"GET / HTTP/1.1\" 200 -\n",
      "127.0.0.1 - - [09/Jun/2019 14:57:44] \"GET /static/js/plot.js HTTP/1.1\" 404 -\n",
      "127.0.0.1 - - [09/Jun/2019 14:57:44] \"GET /static/js/plot.js HTTP/1.1\" 404 -\n"
     ]
    }
   ],
   "source": [
    "@app.route('/')\n",
    "def home():\n",
    "  #dat=jsonText\n",
    "  #return “Hello”\n",
    "  return render_template(\"google.html\",dat=Markup(a), mat=b)\n",
    "\n",
    "if __name__ == \"__main__\":\n",
    "  app.run(debug=False)"
   ]
  },
  {
   "cell_type": "code",
   "execution_count": null,
   "metadata": {},
   "outputs": [],
   "source": [
    "#add a column for best reviews \n",
    "#app_overall['Best_Reviews'] = Reviews_df"
   ]
  },
  {
   "cell_type": "code",
   "execution_count": null,
   "metadata": {},
   "outputs": [],
   "source": [
    "#add a column for best rating\n",
    "#app_overall['Best Ratings'] =Ratings_df"
   ]
  },
  {
   "cell_type": "code",
   "execution_count": null,
   "metadata": {},
   "outputs": [],
   "source": [
    "#app_overall.head()"
   ]
  },
  {
   "cell_type": "code",
   "execution_count": null,
   "metadata": {},
   "outputs": [],
   "source": [
    "\n",
    "#clean_tab = app_overall.drop(['Total_Reviews_x','Total_Reviews_y','Ratings_x','Ratings_y','Genres_y'],axis=1)"
   ]
  },
  {
   "cell_type": "code",
   "execution_count": null,
   "metadata": {},
   "outputs": [],
   "source": [
    "#clean_tab.head()"
   ]
  },
  {
   "cell_type": "code",
   "execution_count": null,
   "metadata": {},
   "outputs": [],
   "source": [
    "#rename the column for genress\n",
    "#final=clean_tab.rename(columns={\"Genres_x\":\"Genres\"})"
   ]
  },
  {
   "cell_type": "code",
   "execution_count": null,
   "metadata": {},
   "outputs": [],
   "source": [
    "#final.head()"
   ]
  },
  {
   "cell_type": "code",
   "execution_count": null,
   "metadata": {},
   "outputs": [],
   "source": []
  }
 ],
 "metadata": {
  "kernelspec": {
   "display_name": "Python 3",
   "language": "python",
   "name": "python3"
  },
  "language_info": {
   "codemirror_mode": {
    "name": "ipython",
    "version": 3
   },
   "file_extension": ".py",
   "mimetype": "text/x-python",
   "name": "python",
   "nbconvert_exporter": "python",
   "pygments_lexer": "ipython3",
   "version": "3.7.2"
  }
 },
 "nbformat": 4,
 "nbformat_minor": 2
}
